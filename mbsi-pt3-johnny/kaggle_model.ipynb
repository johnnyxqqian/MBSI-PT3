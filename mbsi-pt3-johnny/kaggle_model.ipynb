{
 "cells": [
  {
   "cell_type": "code",
   "execution_count": 4,
   "id": "dbe95ce3",
   "metadata": {},
   "outputs": [],
   "source": [
    "import sklearn as sk\n",
    "import pandas as pd\n",
    "import numpy as np\n",
    "import matplotlib.pyplot as plt \n",
    "import scipy.io as sio\n",
    "from keras.utils import to_categorical\n",
    "import time\n",
    "import glob\n",
    "from sklearn.model_selection import train_test_split\n",
    "from sklearn.naive_bayes import GaussianNB"
   ]
  },
  {
   "cell_type": "code",
   "execution_count": 5,
   "id": "53ee4e49",
   "metadata": {},
   "outputs": [
    {
     "name": "stdout",
     "output_type": "stream",
     "text": [
      "Channel-0.png       Channel-3.png       Channel-6.png       Untitled.ipynb\r\n",
      "Channel-1.png       Channel-4.png       Channel-7.png       kaggle_model.ipynb\r\n",
      "Channel-2.png       Channel-5.png       P300 Analysis.ipynb \u001b[34mmbsi-p300-dataset\u001b[m\u001b[m\r\n"
     ]
    }
   ],
   "source": [
    "!ls\n",
    "np.random.seed(816)"
   ]
  },
  {
   "cell_type": "code",
   "execution_count": 6,
   "id": "a676c602",
   "metadata": {},
   "outputs": [
    {
     "name": "stdout",
     "output_type": "stream",
     "text": [
      "['./mbsi-p300-dataset/P300S03.mat', './mbsi-p300-dataset/P300S01.mat', './mbsi-p300-dataset/P300S05.mat', './mbsi-p300-dataset/P300S07.mat', './mbsi-p300-dataset/P300S06.mat', './mbsi-p300-dataset/P300S08.mat']\n"
     ]
    }
   ],
   "source": [
    "folder = './mbsi-p300-dataset/*.mat'\n",
    "files = glob.glob(folder)\n",
    "test_file = files.pop(0)\n",
    "files.pop(2)\n",
    "print(files)"
   ]
  },
  {
   "cell_type": "code",
   "execution_count": 7,
   "id": "7cd61de7",
   "metadata": {},
   "outputs": [],
   "source": [
    "from scipy.signal import butter, lfilter, freqz\n",
    "\n",
    "def butter_lowpass(cutoff, fs, order=5):\n",
    "    nyq = 0.5 * fs\n",
    "    normal_cutoff = cutoff / nyq\n",
    "    b, a = butter(order, normal_cutoff, btype='low', analog=False)\n",
    "    return b, a\n",
    "\n",
    "def butter_lowpass_filter(data, cutoff, fs, order=5):\n",
    "    b, a = butter_lowpass(cutoff, fs, order=order)\n",
    "    y = lfilter(b, a, data)\n",
    "    return y\n",
    "\n",
    "\n",
    "# Filter requirements.\n",
    "order = 6\n",
    "fs = 24.0       # sample rate, Hz\n",
    "cutoff = 1.5  # desired cutoff frequency of the filter, Hz\n",
    "\n",
    "# Get the filter coefficients so we can check its frequency response.\n",
    "b, a = butter_lowpass(cutoff, fs, order)"
   ]
  },
  {
   "cell_type": "code",
   "execution_count": 8,
   "id": "926ad222",
   "metadata": {},
   "outputs": [],
   "source": [
    "def prepare_data(file):\n",
    "    raw_data = sio.loadmat(file)\n",
    "    useful_data = raw_data['data'].copy()\n",
    "    X = np.array(useful_data['X'][0,0])\n",
    "    Y = np.array(useful_data['y'][0,0])\n",
    "    T = np.array(useful_data['trial'][0,0])\n",
    "    F = np.array(useful_data['flash'][0,0])\n",
    "    # X_mean = np.mean(X, axis=1)\n",
    "    X_filtered = butter_lowpass_filter(X, cutoff, fs, order)\n",
    "\n",
    "    return X_filtered, Y, T, F"
   ]
  },
  {
   "cell_type": "code",
   "execution_count": 9,
   "id": "64b16a43",
   "metadata": {},
   "outputs": [],
   "source": [
    "def normalized(vec):\n",
    "    norm_vec = (vec - vec.min(axis=1, keepdims=True))/vec.ptp(axis=1, keepdims=True)\n",
    "    return norm_vec"
   ]
  },
  {
   "cell_type": "code",
   "execution_count": 10,
   "id": "b31da13a",
   "metadata": {},
   "outputs": [],
   "source": [
    "def clean_data(X, Y, flash):\n",
    "  \n",
    "    X_samples = np.array([np.array(X[i[0]:i[0]+351]) for i in flash])\n",
    "    column    = [i[2] for i in flash]\n",
    "    label     = [i[3] - 1 for i in flash]\n",
    "\n",
    "    LIMIT = 4080 #the last trial is incomplete\n",
    "    X_selected = np.array(X_samples[:LIMIT])\n",
    "    col_selected = np.array(column[:LIMIT])\n",
    "    label_selected = np.array(label[:LIMIT])\n",
    "\n",
    "    y = np.array(to_categorical(label_selected))\n",
    "\n",
    "    false_idx = [k for k, i in enumerate(y) if i[0] == 1]\n",
    "    true_idx  = [k for k, i in enumerate(y) if i[0] == 0]\n",
    "\n",
    "    falseX = X_selected[false_idx]\n",
    "    falsey = y[false_idx]\n",
    "\n",
    "    trueX  = X_selected[true_idx]  \n",
    "    truey  = y[true_idx]\n",
    "    # proportional data to avoid greedy cost funtion\n",
    "\n",
    "    proportionalX = falseX[:int(len(trueX))]\n",
    "    proportionaly = falsey[:int(len(truey))]\n",
    "\n",
    "    finalX = np.concatenate((trueX, proportionalX))\n",
    "    finaly = np.concatenate((truey, proportionaly))\n",
    "\n",
    "    X_timeseries = np.vstack(finalX)\n",
    "    X_letters = X_timeseries.reshape(34,40,351,8)\n",
    "    y_letters = finaly.reshape(34,40,2)\n",
    "    cleaned_X = np.vstack(X_letters)\n",
    "    cleaned_Y = np.vstack(y_letters)\n",
    "\n",
    "    return cleaned_X, cleaned_Y"
   ]
  },
  {
   "cell_type": "code",
   "execution_count": 11,
   "id": "795131e6",
   "metadata": {},
   "outputs": [
    {
     "name": "stderr",
     "output_type": "stream",
     "text": [
      "/var/folders/45/kz7s2cd1451ftcg_f4bjlpbh0000gn/T/ipykernel_26450/3573010249.py:3: VisibleDeprecationWarning: Creating an ndarray from ragged nested sequences (which is a list-or-tuple of lists-or-tuples-or ndarrays with different lengths or shapes) is deprecated. If you meant to do this, you must specify 'dtype=object' when creating the ndarray.\n",
      "  X_samples = np.array([np.array(X[i[0]:i[0]+351]) for i in flash])\n"
     ]
    }
   ],
   "source": [
    "X, Y, Trials, Flash = prepare_data(test_file)\n",
    "X_clean, y_clean = clean_data(X, Y, Flash)\n"
   ]
  },
  {
   "cell_type": "code",
   "execution_count": 12,
   "id": "70515cb4",
   "metadata": {},
   "outputs": [
    {
     "name": "stdout",
     "output_type": "stream",
     "text": [
      "Model: \"model\"\n",
      "_________________________________________________________________\n",
      "Layer (type)                 Output Shape              Param #   \n",
      "=================================================================\n",
      "main_input (InputLayer)      [(None, 351, 8, 1)]       0         \n",
      "_________________________________________________________________\n",
      "conv2d (Conv2D)              (None, 351, 8, 16)        1040      \n",
      "_________________________________________________________________\n",
      "conv2d_1 (Conv2D)            (None, 351, 8, 32)        18464     \n",
      "_________________________________________________________________\n",
      "conv2d_2 (Conv2D)            (None, 351, 8, 8)         4104      \n",
      "_________________________________________________________________\n",
      "conv2d_3 (Conv2D)            (None, 351, 8, 4)         132       \n",
      "_________________________________________________________________\n",
      "global_average_pooling2d (Gl (None, 4)                 0         \n",
      "_________________________________________________________________\n",
      "dense (Dense)                (None, 8)                 40        \n",
      "_________________________________________________________________\n",
      "dense_1 (Dense)              (None, 64)                576       \n",
      "_________________________________________________________________\n",
      "dense_2 (Dense)              (None, 2)                 130       \n",
      "=================================================================\n",
      "Total params: 24,486\n",
      "Trainable params: 24,486\n",
      "Non-trainable params: 0\n",
      "_________________________________________________________________\n"
     ]
    }
   ],
   "source": [
    "import tensorflow as tf\n",
    "\n",
    "from tensorflow import keras\n",
    "tf.keras.backend.clear_session()  # For easy reset of notebook state.\n",
    "\n",
    "from tensorflow.keras import layers\n",
    "\n",
    "input_layer = keras.Input(shape = (351,8,1), name='main_input')\n",
    "x     = layers.Conv2D(16, 8, padding='same', activation='relu')(input_layer)\n",
    "x     = layers.Conv2D(32, 6, padding='same', activation='relu')(x)\n",
    "x     = layers.Conv2D(8, 4, padding='same', activation='relu')(x)\n",
    "x     = layers.Conv2D(4, 2, padding='same', activation='relu')(x)\n",
    "x     = layers.GlobalAveragePooling2D()(x)\n",
    "x     = layers.Dense(8)(x)\n",
    "x     = layers.Dense(64)(x)\n",
    "output = layers.Dense(2, activation='softmax')(x)\n",
    "\n",
    "model = keras.Model(inputs=input_layer, outputs=output)\n",
    "\n",
    "model.summary()"
   ]
  },
  {
   "cell_type": "code",
   "execution_count": 13,
   "id": "ad13434c",
   "metadata": {},
   "outputs": [],
   "source": [
    "#compiling the model\n",
    "opt = keras.optimizers.Adam(lr=0.001, beta_1=0.9, beta_2=0.999, amsgrad=True)  # default params\n",
    "model.compile(optimizer=opt,\n",
    "              loss='binary_crossentropy',\n",
    "              metrics=['accuracy'])"
   ]
  },
  {
   "cell_type": "code",
   "execution_count": 14,
   "id": "d1941ed0",
   "metadata": {},
   "outputs": [],
   "source": [
    "def train_net(model):\n",
    "    appX = []\n",
    "    appy = []\n",
    "    init = time.time()\n",
    "    for file in files:\n",
    "        X, Y, Trials, Flash = prepare_data(file)\n",
    "        X_clean, y_clean = clean_data(X, Y, Flash)\n",
    "        appX.append(X_clean)\n",
    "        appy.append(y_clean)\n",
    "\n",
    "    print(\"exited loops!\")\n",
    "    X = [subject for subject in appX]\n",
    "    y = [subject for subject in appy]\n",
    "    X_train, X_valid, y_train, y_valid = train_test_split(np.vstack(X), np.vstack(y), test_size=0.1, random_state=816)\n",
    "    print(\"trained!!\")\n",
    "    \n",
    "    \n",
    "#     history = model.fit(X_train, y_train, validation_data=(X_valid, y_valid), batch_size=30, epochs=75, verbose=1)\n",
    "    end = time.time()\n",
    "    print(\"time elapsed training is:\", (end - init)/60, \" minutes\")  \n",
    "#     return history.history['accuracy'], history.history['val_accuracy'], history.history['loss'], history.history['val_loss']"
   ]
  },
  {
   "cell_type": "code",
   "execution_count": 19,
   "id": "bff2d84b",
   "metadata": {
    "scrolled": true
   },
   "outputs": [],
   "source": [
    "def train_model():\n",
    "    appX = []\n",
    "    appy = []\n",
    "    init = time.time()\n",
    "    for file in files:\n",
    "        X, Y, Trials, Flash = prepare_data(file)\n",
    "        X_clean, y_clean = clean_data(X, Y, Flash)\n",
    "        appX.append(X_clean)\n",
    "        appy.append(y_clean)\n",
    "\n",
    "    print(\"exited loops!\")\n",
    "    X = [subject for subject in appX]\n",
    "    y = [subject for subject in appy]\n",
    "    X_train, X_valid, y_train, y_valid = train_test_split(np.vstack(X), np.vstack(y), test_size=0.1, random_state=816)\n",
    "    gnb = GaussianNB()\n",
    "    \n",
    "    X, Y, Trials, Flash = prepare_data(test_file)\n",
    "    X_test, Y_test = clean_data(X, Y, Flash)\n",
    "    y_pred = gnb.fit(X_train, y_train).predict(X_test)\n",
    "    print(X_test.shape[0], (Y_test != y_pred).sum())\n",
    "    \n",
    "    \n",
    "#     history = model.fit(X_train, y_train, validation_data=(X_valid, y_valid), batch_size=30, epochs=75, verbose=1)\n",
    "    end = time.time()\n",
    "    print(\"time elapsed training is:\", (end - init)/60, \" minutes\")  \n",
    "#     return history.history['accuracy'], history.history['val_accuracy'], history.history['loss'], history.history['val_loss']"
   ]
  },
  {
   "cell_type": "code",
   "execution_count": 20,
   "id": "49f7d038",
   "metadata": {},
   "outputs": [
    {
     "name": "stderr",
     "output_type": "stream",
     "text": [
      "/var/folders/45/kz7s2cd1451ftcg_f4bjlpbh0000gn/T/ipykernel_26450/3573010249.py:3: VisibleDeprecationWarning: Creating an ndarray from ragged nested sequences (which is a list-or-tuple of lists-or-tuples-or ndarrays with different lengths or shapes) is deprecated. If you meant to do this, you must specify 'dtype=object' when creating the ndarray.\n",
      "  X_samples = np.array([np.array(X[i[0]:i[0]+351]) for i in flash])\n"
     ]
    },
    {
     "name": "stdout",
     "output_type": "stream",
     "text": [
      "exited loops!\n"
     ]
    },
    {
     "ename": "ValueError",
     "evalue": "Found array with dim 3. Estimator expected <= 2.",
     "output_type": "error",
     "traceback": [
      "\u001b[0;31m---------------------------------------------------------------------------\u001b[0m",
      "\u001b[0;31mValueError\u001b[0m                                Traceback (most recent call last)",
      "\u001b[0;32m/var/folders/45/kz7s2cd1451ftcg_f4bjlpbh0000gn/T/ipykernel_26450/332021494.py\u001b[0m in \u001b[0;36m<module>\u001b[0;34m\u001b[0m\n\u001b[1;32m      1\u001b[0m \u001b[0;31m# acc, val_acc, loss, val_loss = train_net(model)\u001b[0m\u001b[0;34m\u001b[0m\u001b[0;34m\u001b[0m\u001b[0;34m\u001b[0m\u001b[0m\n\u001b[0;32m----> 2\u001b[0;31m \u001b[0mtrain_model\u001b[0m\u001b[0;34m(\u001b[0m\u001b[0;34m)\u001b[0m\u001b[0;34m\u001b[0m\u001b[0;34m\u001b[0m\u001b[0m\n\u001b[0m",
      "\u001b[0;32m/var/folders/45/kz7s2cd1451ftcg_f4bjlpbh0000gn/T/ipykernel_26450/3719639007.py\u001b[0m in \u001b[0;36mtrain_model\u001b[0;34m()\u001b[0m\n\u001b[1;32m     17\u001b[0m     \u001b[0mX\u001b[0m\u001b[0;34m,\u001b[0m \u001b[0mY\u001b[0m\u001b[0;34m,\u001b[0m \u001b[0mTrials\u001b[0m\u001b[0;34m,\u001b[0m \u001b[0mFlash\u001b[0m \u001b[0;34m=\u001b[0m \u001b[0mprepare_data\u001b[0m\u001b[0;34m(\u001b[0m\u001b[0mtest_file\u001b[0m\u001b[0;34m)\u001b[0m\u001b[0;34m\u001b[0m\u001b[0;34m\u001b[0m\u001b[0m\n\u001b[1;32m     18\u001b[0m     \u001b[0mX_test\u001b[0m\u001b[0;34m,\u001b[0m \u001b[0mY_test\u001b[0m \u001b[0;34m=\u001b[0m \u001b[0mclean_data\u001b[0m\u001b[0;34m(\u001b[0m\u001b[0mX\u001b[0m\u001b[0;34m,\u001b[0m \u001b[0mY\u001b[0m\u001b[0;34m,\u001b[0m \u001b[0mFlash\u001b[0m\u001b[0;34m)\u001b[0m\u001b[0;34m\u001b[0m\u001b[0;34m\u001b[0m\u001b[0m\n\u001b[0;32m---> 19\u001b[0;31m     \u001b[0my_pred\u001b[0m \u001b[0;34m=\u001b[0m \u001b[0mgnb\u001b[0m\u001b[0;34m.\u001b[0m\u001b[0mfit\u001b[0m\u001b[0;34m(\u001b[0m\u001b[0mX_train\u001b[0m\u001b[0;34m,\u001b[0m \u001b[0my_train\u001b[0m\u001b[0;34m)\u001b[0m\u001b[0;34m.\u001b[0m\u001b[0mpredict\u001b[0m\u001b[0;34m(\u001b[0m\u001b[0mX_test\u001b[0m\u001b[0;34m)\u001b[0m\u001b[0;34m\u001b[0m\u001b[0;34m\u001b[0m\u001b[0m\n\u001b[0m\u001b[1;32m     20\u001b[0m     \u001b[0mprint\u001b[0m\u001b[0;34m(\u001b[0m\u001b[0mX_test\u001b[0m\u001b[0;34m.\u001b[0m\u001b[0mshape\u001b[0m\u001b[0;34m[\u001b[0m\u001b[0;36m0\u001b[0m\u001b[0;34m]\u001b[0m\u001b[0;34m,\u001b[0m \u001b[0;34m(\u001b[0m\u001b[0mY_test\u001b[0m \u001b[0;34m!=\u001b[0m \u001b[0my_pred\u001b[0m\u001b[0;34m)\u001b[0m\u001b[0;34m.\u001b[0m\u001b[0msum\u001b[0m\u001b[0;34m(\u001b[0m\u001b[0;34m)\u001b[0m\u001b[0;34m)\u001b[0m\u001b[0;34m\u001b[0m\u001b[0;34m\u001b[0m\u001b[0m\n\u001b[1;32m     21\u001b[0m \u001b[0;34m\u001b[0m\u001b[0m\n",
      "\u001b[0;32m~/miniforge3/envs/tf_m1/lib/python3.8/site-packages/sklearn/naive_bayes.py\u001b[0m in \u001b[0;36mfit\u001b[0;34m(self, X, y, sample_weight)\u001b[0m\n\u001b[1;32m    205\u001b[0m         \u001b[0mself\u001b[0m \u001b[0;34m:\u001b[0m \u001b[0mobject\u001b[0m\u001b[0;34m\u001b[0m\u001b[0;34m\u001b[0m\u001b[0m\n\u001b[1;32m    206\u001b[0m         \"\"\"\n\u001b[0;32m--> 207\u001b[0;31m         \u001b[0mX\u001b[0m\u001b[0;34m,\u001b[0m \u001b[0my\u001b[0m \u001b[0;34m=\u001b[0m \u001b[0mself\u001b[0m\u001b[0;34m.\u001b[0m\u001b[0m_validate_data\u001b[0m\u001b[0;34m(\u001b[0m\u001b[0mX\u001b[0m\u001b[0;34m,\u001b[0m \u001b[0my\u001b[0m\u001b[0;34m)\u001b[0m\u001b[0;34m\u001b[0m\u001b[0;34m\u001b[0m\u001b[0m\n\u001b[0m\u001b[1;32m    208\u001b[0m         \u001b[0my\u001b[0m \u001b[0;34m=\u001b[0m \u001b[0mcolumn_or_1d\u001b[0m\u001b[0;34m(\u001b[0m\u001b[0my\u001b[0m\u001b[0;34m,\u001b[0m \u001b[0mwarn\u001b[0m\u001b[0;34m=\u001b[0m\u001b[0;32mTrue\u001b[0m\u001b[0;34m)\u001b[0m\u001b[0;34m\u001b[0m\u001b[0;34m\u001b[0m\u001b[0m\n\u001b[1;32m    209\u001b[0m         return self._partial_fit(X, y, np.unique(y), _refit=True,\n",
      "\u001b[0;32m~/miniforge3/envs/tf_m1/lib/python3.8/site-packages/sklearn/base.py\u001b[0m in \u001b[0;36m_validate_data\u001b[0;34m(self, X, y, reset, validate_separately, **check_params)\u001b[0m\n\u001b[1;32m    431\u001b[0m                 \u001b[0my\u001b[0m \u001b[0;34m=\u001b[0m \u001b[0mcheck_array\u001b[0m\u001b[0;34m(\u001b[0m\u001b[0my\u001b[0m\u001b[0;34m,\u001b[0m \u001b[0;34m**\u001b[0m\u001b[0mcheck_y_params\u001b[0m\u001b[0;34m)\u001b[0m\u001b[0;34m\u001b[0m\u001b[0;34m\u001b[0m\u001b[0m\n\u001b[1;32m    432\u001b[0m             \u001b[0;32melse\u001b[0m\u001b[0;34m:\u001b[0m\u001b[0;34m\u001b[0m\u001b[0;34m\u001b[0m\u001b[0m\n\u001b[0;32m--> 433\u001b[0;31m                 \u001b[0mX\u001b[0m\u001b[0;34m,\u001b[0m \u001b[0my\u001b[0m \u001b[0;34m=\u001b[0m \u001b[0mcheck_X_y\u001b[0m\u001b[0;34m(\u001b[0m\u001b[0mX\u001b[0m\u001b[0;34m,\u001b[0m \u001b[0my\u001b[0m\u001b[0;34m,\u001b[0m \u001b[0;34m**\u001b[0m\u001b[0mcheck_params\u001b[0m\u001b[0;34m)\u001b[0m\u001b[0;34m\u001b[0m\u001b[0;34m\u001b[0m\u001b[0m\n\u001b[0m\u001b[1;32m    434\u001b[0m             \u001b[0mout\u001b[0m \u001b[0;34m=\u001b[0m \u001b[0mX\u001b[0m\u001b[0;34m,\u001b[0m \u001b[0my\u001b[0m\u001b[0;34m\u001b[0m\u001b[0;34m\u001b[0m\u001b[0m\n\u001b[1;32m    435\u001b[0m \u001b[0;34m\u001b[0m\u001b[0m\n",
      "\u001b[0;32m~/miniforge3/envs/tf_m1/lib/python3.8/site-packages/sklearn/utils/validation.py\u001b[0m in \u001b[0;36minner_f\u001b[0;34m(*args, **kwargs)\u001b[0m\n\u001b[1;32m     61\u001b[0m             \u001b[0mextra_args\u001b[0m \u001b[0;34m=\u001b[0m \u001b[0mlen\u001b[0m\u001b[0;34m(\u001b[0m\u001b[0margs\u001b[0m\u001b[0;34m)\u001b[0m \u001b[0;34m-\u001b[0m \u001b[0mlen\u001b[0m\u001b[0;34m(\u001b[0m\u001b[0mall_args\u001b[0m\u001b[0;34m)\u001b[0m\u001b[0;34m\u001b[0m\u001b[0;34m\u001b[0m\u001b[0m\n\u001b[1;32m     62\u001b[0m             \u001b[0;32mif\u001b[0m \u001b[0mextra_args\u001b[0m \u001b[0;34m<=\u001b[0m \u001b[0;36m0\u001b[0m\u001b[0;34m:\u001b[0m\u001b[0;34m\u001b[0m\u001b[0;34m\u001b[0m\u001b[0m\n\u001b[0;32m---> 63\u001b[0;31m                 \u001b[0;32mreturn\u001b[0m \u001b[0mf\u001b[0m\u001b[0;34m(\u001b[0m\u001b[0;34m*\u001b[0m\u001b[0margs\u001b[0m\u001b[0;34m,\u001b[0m \u001b[0;34m**\u001b[0m\u001b[0mkwargs\u001b[0m\u001b[0;34m)\u001b[0m\u001b[0;34m\u001b[0m\u001b[0;34m\u001b[0m\u001b[0m\n\u001b[0m\u001b[1;32m     64\u001b[0m \u001b[0;34m\u001b[0m\u001b[0m\n\u001b[1;32m     65\u001b[0m             \u001b[0;31m# extra_args > 0\u001b[0m\u001b[0;34m\u001b[0m\u001b[0;34m\u001b[0m\u001b[0;34m\u001b[0m\u001b[0m\n",
      "\u001b[0;32m~/miniforge3/envs/tf_m1/lib/python3.8/site-packages/sklearn/utils/validation.py\u001b[0m in \u001b[0;36mcheck_X_y\u001b[0;34m(X, y, accept_sparse, accept_large_sparse, dtype, order, copy, force_all_finite, ensure_2d, allow_nd, multi_output, ensure_min_samples, ensure_min_features, y_numeric, estimator)\u001b[0m\n\u001b[1;32m    869\u001b[0m         \u001b[0;32mraise\u001b[0m \u001b[0mValueError\u001b[0m\u001b[0;34m(\u001b[0m\u001b[0;34m\"y cannot be None\"\u001b[0m\u001b[0;34m)\u001b[0m\u001b[0;34m\u001b[0m\u001b[0;34m\u001b[0m\u001b[0m\n\u001b[1;32m    870\u001b[0m \u001b[0;34m\u001b[0m\u001b[0m\n\u001b[0;32m--> 871\u001b[0;31m     X = check_array(X, accept_sparse=accept_sparse,\n\u001b[0m\u001b[1;32m    872\u001b[0m                     \u001b[0maccept_large_sparse\u001b[0m\u001b[0;34m=\u001b[0m\u001b[0maccept_large_sparse\u001b[0m\u001b[0;34m,\u001b[0m\u001b[0;34m\u001b[0m\u001b[0;34m\u001b[0m\u001b[0m\n\u001b[1;32m    873\u001b[0m                     \u001b[0mdtype\u001b[0m\u001b[0;34m=\u001b[0m\u001b[0mdtype\u001b[0m\u001b[0;34m,\u001b[0m \u001b[0morder\u001b[0m\u001b[0;34m=\u001b[0m\u001b[0morder\u001b[0m\u001b[0;34m,\u001b[0m \u001b[0mcopy\u001b[0m\u001b[0;34m=\u001b[0m\u001b[0mcopy\u001b[0m\u001b[0;34m,\u001b[0m\u001b[0;34m\u001b[0m\u001b[0;34m\u001b[0m\u001b[0m\n",
      "\u001b[0;32m~/miniforge3/envs/tf_m1/lib/python3.8/site-packages/sklearn/utils/validation.py\u001b[0m in \u001b[0;36minner_f\u001b[0;34m(*args, **kwargs)\u001b[0m\n\u001b[1;32m     61\u001b[0m             \u001b[0mextra_args\u001b[0m \u001b[0;34m=\u001b[0m \u001b[0mlen\u001b[0m\u001b[0;34m(\u001b[0m\u001b[0margs\u001b[0m\u001b[0;34m)\u001b[0m \u001b[0;34m-\u001b[0m \u001b[0mlen\u001b[0m\u001b[0;34m(\u001b[0m\u001b[0mall_args\u001b[0m\u001b[0;34m)\u001b[0m\u001b[0;34m\u001b[0m\u001b[0;34m\u001b[0m\u001b[0m\n\u001b[1;32m     62\u001b[0m             \u001b[0;32mif\u001b[0m \u001b[0mextra_args\u001b[0m \u001b[0;34m<=\u001b[0m \u001b[0;36m0\u001b[0m\u001b[0;34m:\u001b[0m\u001b[0;34m\u001b[0m\u001b[0;34m\u001b[0m\u001b[0m\n\u001b[0;32m---> 63\u001b[0;31m                 \u001b[0;32mreturn\u001b[0m \u001b[0mf\u001b[0m\u001b[0;34m(\u001b[0m\u001b[0;34m*\u001b[0m\u001b[0margs\u001b[0m\u001b[0;34m,\u001b[0m \u001b[0;34m**\u001b[0m\u001b[0mkwargs\u001b[0m\u001b[0;34m)\u001b[0m\u001b[0;34m\u001b[0m\u001b[0;34m\u001b[0m\u001b[0m\n\u001b[0m\u001b[1;32m     64\u001b[0m \u001b[0;34m\u001b[0m\u001b[0m\n\u001b[1;32m     65\u001b[0m             \u001b[0;31m# extra_args > 0\u001b[0m\u001b[0;34m\u001b[0m\u001b[0;34m\u001b[0m\u001b[0;34m\u001b[0m\u001b[0m\n",
      "\u001b[0;32m~/miniforge3/envs/tf_m1/lib/python3.8/site-packages/sklearn/utils/validation.py\u001b[0m in \u001b[0;36mcheck_array\u001b[0;34m(array, accept_sparse, accept_large_sparse, dtype, order, copy, force_all_finite, ensure_2d, allow_nd, ensure_min_samples, ensure_min_features, estimator)\u001b[0m\n\u001b[1;32m    714\u001b[0m                     \"into decimal numbers with dtype='numeric'\") from e\n\u001b[1;32m    715\u001b[0m         \u001b[0;32mif\u001b[0m \u001b[0;32mnot\u001b[0m \u001b[0mallow_nd\u001b[0m \u001b[0;32mand\u001b[0m \u001b[0marray\u001b[0m\u001b[0;34m.\u001b[0m\u001b[0mndim\u001b[0m \u001b[0;34m>=\u001b[0m \u001b[0;36m3\u001b[0m\u001b[0;34m:\u001b[0m\u001b[0;34m\u001b[0m\u001b[0;34m\u001b[0m\u001b[0m\n\u001b[0;32m--> 716\u001b[0;31m             raise ValueError(\"Found array with dim %d. %s expected <= 2.\"\n\u001b[0m\u001b[1;32m    717\u001b[0m                              % (array.ndim, estimator_name))\n\u001b[1;32m    718\u001b[0m \u001b[0;34m\u001b[0m\u001b[0m\n",
      "\u001b[0;31mValueError\u001b[0m: Found array with dim 3. Estimator expected <= 2."
     ]
    }
   ],
   "source": [
    "# acc, val_acc, loss, val_loss = train_net(model)\n",
    "train_model()"
   ]
  },
  {
   "cell_type": "code",
   "execution_count": null,
   "id": "4636d2b2",
   "metadata": {},
   "outputs": [],
   "source": [
    "# Plot test accuracy values\n",
    "plt.rcParams[\"figure.figsize\"] = (10,7)\n",
    "plt.plot(acc)\n",
    "plt.plot(val_acc)\n",
    "plt.title('Model accuracy')\n",
    "plt.ylabel('Accuracy')\n",
    "plt.xlabel('Epoch')\n",
    "plt.legend(['Train', 'Valid'], loc='upper left')\n",
    "plt.show()"
   ]
  },
  {
   "cell_type": "code",
   "execution_count": null,
   "id": "a53e885f",
   "metadata": {},
   "outputs": [],
   "source": [
    "# Plot test accuracy values\n",
    "plt.plot(loss)\n",
    "plt.plot(val_loss)\n",
    "plt.title('Model loss')\n",
    "plt.ylabel('Loss')\n",
    "plt.xlabel('Epoch')\n",
    "plt.legend(['Train', 'Valid'], loc='upper left')\n",
    "plt.show()"
   ]
  },
  {
   "cell_type": "code",
   "execution_count": null,
   "id": "dc90f038",
   "metadata": {},
   "outputs": [],
   "source": [
    "X, Y, Trials, Flash = prepare_data(test_file)\n",
    "X_clean, y_clean = clean_data(X, Y, Flash)\n",
    "X_train, X_test, y_train, y_test = train_test_split(X_clean, y_clean, test_size=0.1, random_state=816)\n",
    "history = model.fit(X_train, y_train, batch_size=1, epochs=20)"
   ]
  },
  {
   "cell_type": "code",
   "execution_count": null,
   "id": "6bbf21ce",
   "metadata": {},
   "outputs": [],
   "source": [
    "# Plot test accuracy values\n",
    "plt.plot(history.history['accuracy'])\n",
    "plt.title('Model accuracy')\n",
    "plt.ylabel('Accuracy')\n",
    "plt.xlabel('Epoch')\n",
    "plt.legend(['Test'], loc='upper left')\n",
    "plt.show()"
   ]
  },
  {
   "cell_type": "code",
   "execution_count": null,
   "id": "7edfb69a",
   "metadata": {},
   "outputs": [],
   "source": []
  }
 ],
 "metadata": {
  "kernelspec": {
   "display_name": "Python 3 (ipykernel)",
   "language": "python",
   "name": "python3"
  },
  "language_info": {
   "codemirror_mode": {
    "name": "ipython",
    "version": 3
   },
   "file_extension": ".py",
   "mimetype": "text/x-python",
   "name": "python",
   "nbconvert_exporter": "python",
   "pygments_lexer": "ipython3",
   "version": "3.8.10"
  }
 },
 "nbformat": 4,
 "nbformat_minor": 5
}
