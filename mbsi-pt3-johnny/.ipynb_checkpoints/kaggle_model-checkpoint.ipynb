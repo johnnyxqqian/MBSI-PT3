{
 "cells": [
  {
   "cell_type": "code",
   "execution_count": 1,
   "id": "dbe95ce3",
   "metadata": {},
   "outputs": [],
   "source": [
    "import sklearn as sk\n",
    "import pandas as pd\n",
    "import numpy as np\n",
    "import matplotlib.pyplot as plt \n",
    "import scipy.io as sio\n",
    "from keras.utils import to_categorical\n",
    "import time\n",
    "import glob\n",
    "from sklearn.model_selection import train_test_split\n",
    "from sklearn.naive_bayes import GaussianNB"
   ]
  },
  {
   "cell_type": "code",
   "execution_count": 2,
   "id": "53ee4e49",
   "metadata": {},
   "outputs": [
    {
     "name": "stdout",
     "output_type": "stream",
     "text": [
      "P300 Analysis.ipynb            \u001b[34mmbsi-p300-dataset\u001b[m\u001b[m\r\n",
      "kaggle_model.ipynb             p300 raw vs. butter filter.jpg\r\n"
     ]
    }
   ],
   "source": [
    "!ls\n",
    "np.random.seed(816)"
   ]
  },
  {
   "cell_type": "code",
   "execution_count": 3,
   "id": "a676c602",
   "metadata": {},
   "outputs": [
    {
     "name": "stdout",
     "output_type": "stream",
     "text": [
      "['./mbsi-p300-dataset/P300S03.mat', './mbsi-p300-dataset/P300S01.mat', './mbsi-p300-dataset/P300S05.mat', './mbsi-p300-dataset/P300S07.mat', './mbsi-p300-dataset/P300S06.mat', './mbsi-p300-dataset/P300S08.mat']\n"
     ]
    }
   ],
   "source": [
    "folder = './mbsi-p300-dataset/*.mat'\n",
    "files = glob.glob(folder)\n",
    "test_file = files.pop(0)\n",
    "files.pop(2)\n",
    "print(files)"
   ]
  },
  {
   "cell_type": "code",
   "execution_count": 4,
   "id": "7cd61de7",
   "metadata": {},
   "outputs": [],
   "source": [
    "from scipy.signal import butter, lfilter, freqz\n",
    "\n",
    "def butter_lowpass(cutoff, fs, order=5):\n",
    "    nyq = 0.5 * fs\n",
    "    normal_cutoff = cutoff / nyq\n",
    "    b, a = butter(order, normal_cutoff, btype='low', analog=False)\n",
    "    return b, a\n",
    "\n",
    "def butter_lowpass_filter(data, cutoff, fs, order=5):\n",
    "    b, a = butter_lowpass(cutoff, fs, order=order)\n",
    "    y = lfilter(b, a, data)\n",
    "    return y\n",
    "\n",
    "\n",
    "# Filter requirements.\n",
    "order = 6\n",
    "fs = 250       # sample rate, Hz\n",
    "cutoff = 15  # desired cutoff frequency of the filter, Hz\n",
    "\n",
    "# Get the filter coefficients so we can check its frequency response.\n",
    "b, a = butter_lowpass(cutoff, fs, order)"
   ]
  },
  {
   "cell_type": "code",
   "execution_count": 5,
   "id": "926ad222",
   "metadata": {},
   "outputs": [],
   "source": [
    "def prepare_data(file):\n",
    "    raw_data = sio.loadmat(file)\n",
    "    useful_data = raw_data['data'].copy()\n",
    "    X = np.array(useful_data['X'][0,0])\n",
    "    Y = np.array(useful_data['y'][0,0])\n",
    "    T = np.array(useful_data['trial'][0,0])\n",
    "    F = np.array(useful_data['flash'][0,0])\n",
    "    # X_mean = np.mean(X, axis=1)\n",
    "    X_filtered = butter_lowpass_filter(X, cutoff, fs, order)\n",
    "\n",
    "    return X_filtered, Y, T, F"
   ]
  },
  {
   "cell_type": "code",
   "execution_count": 6,
   "id": "64b16a43",
   "metadata": {},
   "outputs": [],
   "source": [
    "def normalized(vec):\n",
    "    norm_vec = (vec - vec.min(axis=1, keepdims=True))/vec.ptp(axis=1, keepdims=True)\n",
    "    return norm_vec"
   ]
  },
  {
   "cell_type": "code",
   "execution_count": 7,
   "id": "b31da13a",
   "metadata": {},
   "outputs": [],
   "source": [
    "def clean_data(X, Y, flash):\n",
    "  \n",
    "    X_samples = np.array([np.array(X[i[0]:i[0]+351]) for i in flash])\n",
    "    column    = [i[2] for i in flash]\n",
    "    label     = [i[3] - 1 for i in flash]\n",
    "\n",
    "    LIMIT = 4080 #the last trial is incomplete\n",
    "    X_selected = np.array(X_samples[:LIMIT])\n",
    "    col_selected = np.array(column[:LIMIT])\n",
    "    label_selected = np.array(label[:LIMIT])\n",
    "\n",
    "    y = np.array(to_categorical(label_selected))\n",
    "\n",
    "    false_idx = [k for k, i in enumerate(y) if i[0] == 1]\n",
    "    true_idx  = [k for k, i in enumerate(y) if i[0] == 0]\n",
    "\n",
    "    falseX = X_selected[false_idx]\n",
    "    falsey = y[false_idx]\n",
    "\n",
    "    trueX  = X_selected[true_idx]  \n",
    "    truey  = y[true_idx]\n",
    "    # proportional data to avoid greedy cost funtion\n",
    "\n",
    "    proportionalX = falseX[:int(len(trueX))]\n",
    "    proportionaly = falsey[:int(len(truey))]\n",
    "\n",
    "    finalX = np.concatenate((trueX, proportionalX))\n",
    "    finaly = np.concatenate((truey, proportionaly))\n",
    "\n",
    "    X_timeseries = np.vstack(finalX)\n",
    "    X_letters = X_timeseries.reshape(34,40,351,8)\n",
    "    y_letters = finaly.reshape(34,40,2)\n",
    "    cleaned_X = np.vstack(X_letters)\n",
    "    cleaned_Y = np.vstack(y_letters)\n",
    "    \n",
    "\n",
    "    return cleaned_X, cleaned_Y"
   ]
  },
  {
   "cell_type": "code",
   "execution_count": 8,
   "id": "795131e6",
   "metadata": {},
   "outputs": [
    {
     "name": "stderr",
     "output_type": "stream",
     "text": [
      "/var/folders/45/kz7s2cd1451ftcg_f4bjlpbh0000gn/T/ipykernel_85219/83896879.py:3: VisibleDeprecationWarning: Creating an ndarray from ragged nested sequences (which is a list-or-tuple of lists-or-tuples-or ndarrays with different lengths or shapes) is deprecated. If you meant to do this, you must specify 'dtype=object' when creating the ndarray.\n",
      "  X_samples = np.array([np.array(X[i[0]:i[0]+351]) for i in flash])\n"
     ]
    }
   ],
   "source": [
    "X, Y, Trials, Flash = prepare_data(test_file)\n",
    "X_clean, y_clean = clean_data(X, Y, Flash)\n"
   ]
  },
  {
   "cell_type": "code",
   "execution_count": 9,
   "id": "70515cb4",
   "metadata": {},
   "outputs": [
    {
     "name": "stdout",
     "output_type": "stream",
     "text": [
      "Model: \"model\"\n",
      "_________________________________________________________________\n",
      "Layer (type)                 Output Shape              Param #   \n",
      "=================================================================\n",
      "main_input (InputLayer)      [(None, 351, 8, 1)]       0         \n",
      "_________________________________________________________________\n",
      "conv2d (Conv2D)              (None, 351, 8, 16)        1040      \n",
      "_________________________________________________________________\n",
      "conv2d_1 (Conv2D)            (None, 351, 8, 32)        18464     \n",
      "_________________________________________________________________\n",
      "conv2d_2 (Conv2D)            (None, 351, 8, 8)         4104      \n",
      "_________________________________________________________________\n",
      "conv2d_3 (Conv2D)            (None, 351, 8, 4)         132       \n",
      "_________________________________________________________________\n",
      "global_average_pooling2d (Gl (None, 4)                 0         \n",
      "_________________________________________________________________\n",
      "dense (Dense)                (None, 8)                 40        \n",
      "_________________________________________________________________\n",
      "dense_1 (Dense)              (None, 64)                576       \n",
      "_________________________________________________________________\n",
      "dense_2 (Dense)              (None, 2)                 130       \n",
      "=================================================================\n",
      "Total params: 24,486\n",
      "Trainable params: 24,486\n",
      "Non-trainable params: 0\n",
      "_________________________________________________________________\n"
     ]
    }
   ],
   "source": [
    "import tensorflow as tf\n",
    "\n",
    "from tensorflow import keras\n",
    "tf.keras.backend.clear_session()  # For easy reset of notebook state.\n",
    "\n",
    "from tensorflow.keras import layers\n",
    "\n",
    "input_layer = keras.Input(shape = (351,8,1), name='main_input')\n",
    "x     = layers.Conv2D(16, 8, padding='same', activation='relu')(input_layer)\n",
    "x     = layers.Conv2D(32, 6, padding='same', activation='relu')(x)\n",
    "x     = layers.Conv2D(8, 4, padding='same', activation='relu')(x)\n",
    "x     = layers.Conv2D(4, 2, padding='same', activation='relu')(x)\n",
    "x     = layers.GlobalAveragePooling2D()(x)\n",
    "x     = layers.Dense(8)(x)\n",
    "x     = layers.Dense(64)(x)\n",
    "output = layers.Dense(2, activation='softmax')(x)\n",
    "\n",
    "model = keras.Model(inputs=input_layer, outputs=output)\n",
    "\n",
    "model.summary()"
   ]
  },
  {
   "cell_type": "code",
   "execution_count": 10,
   "id": "ad13434c",
   "metadata": {},
   "outputs": [],
   "source": [
    "#compiling the model\n",
    "opt = keras.optimizers.Adam(lr=0.001, beta_1=0.9, beta_2=0.999, amsgrad=True)  # default params\n",
    "model.compile(optimizer=opt,\n",
    "              loss='binary_crossentropy',\n",
    "              metrics=['accuracy'])"
   ]
  },
  {
   "cell_type": "code",
   "execution_count": 11,
   "id": "d1941ed0",
   "metadata": {},
   "outputs": [],
   "source": [
    "def train_net(model):\n",
    "    appX = []\n",
    "    appy = []\n",
    "    init = time.time()\n",
    "    for file in files:\n",
    "        X, Y, Trials, Flash = prepare_data(file)\n",
    "        X_clean, y_clean = clean_data(X, Y, Flash)\n",
    "        appX.append(X_clean)\n",
    "        appy.append(y_clean)\n",
    "\n",
    "    print(\"exited loops!\")\n",
    "    X = [subject for subject in appX]\n",
    "    y = [subject for subject in appy]\n",
    "    X_train, X_valid, y_train, y_valid = train_test_split(np.vstack(X), np.vstack(y), test_size=0.1, random_state=816)\n",
    "    print(\"trained!!\")\n",
    "    \n",
    "    \n",
    "    history = model.fit(X_train, y_train, validation_data=(X_valid, y_valid), batch_size=30, epochs=75, verbose=1)\n",
    "    end = time.time()\n",
    "    print(\"time elapsed training is:\", (end - init)/60, \" minutes\")  \n",
    "    return history.history['accuracy'], history.history['val_accuracy'], history.history['loss'], history.history['val_loss']"
   ]
  },
  {
   "cell_type": "code",
   "execution_count": 12,
   "id": "bff2d84b",
   "metadata": {
    "scrolled": true
   },
   "outputs": [],
   "source": [
    "\n",
    "def train_model():\n",
    "    appX = []\n",
    "    appy = []\n",
    "    init = time.time()\n",
    "    for file in files:\n",
    "        X, Y, Trials, Flash = prepare_data(file)\n",
    "        X_clean, y_clean = clean_data(X, Y, Flash)\n",
    "        appX.append(X_clean)\n",
    "        appy.append(y_clean)\n",
    "\n",
    "    \n",
    "    \n",
    "    X = [subject for subject in appX]\n",
    "    X_concat = [np.hstack(arr) for arr in np.vstack(X)]\n",
    "    y = np.vstack(appy)\n",
    "    y_filt = np.argmax(y, axis=1)\n",
    "    \n",
    "    X_train, X_valid, y_train, y_valid = train_test_split(X_concat, y_filt, test_size=0.1, random_state=816)\n",
    "    \n",
    "    \n",
    "    X, Y, Trials, Flash = prepare_data(test_file)\n",
    "    X_test_raw, Y_test_raw = clean_data(X, Y, Flash)\n",
    "    X_test = [np.hstack(arr) for arr in X_test_raw]\n",
    "    Y_test = np.argmax(Y_test_raw, axis=1)\n",
    "    \n",
    "    end = time.time()\n",
    "    print(\"time elapsed preprocessing is:\", (end - init)/60, \" minutes\")  \n",
    "    \n",
    "    return X_train, X_valid, y_train, y_valid, X_test, Y_test\n",
    "    \n",
    "    # history = model.fit(X_train, y_train, validation_data=(X_valid, y_valid), batch_size=30, epochs=75, verbose=1)\n",
    "    \n",
    "    # return history.history['accuracy'], history.history['val_accuracy'], history.history['loss'], history.history['val_loss']"
   ]
  },
  {
   "cell_type": "code",
   "execution_count": 13,
   "id": "49f7d038",
   "metadata": {},
   "outputs": [
    {
     "name": "stderr",
     "output_type": "stream",
     "text": [
      "/var/folders/45/kz7s2cd1451ftcg_f4bjlpbh0000gn/T/ipykernel_85219/83896879.py:3: VisibleDeprecationWarning: Creating an ndarray from ragged nested sequences (which is a list-or-tuple of lists-or-tuples-or ndarrays with different lengths or shapes) is deprecated. If you meant to do this, you must specify 'dtype=object' when creating the ndarray.\n",
      "  X_samples = np.array([np.array(X[i[0]:i[0]+351]) for i in flash])\n"
     ]
    },
    {
     "name": "stdout",
     "output_type": "stream",
     "text": [
      "time elapsed preprocessing is: 0.06469035148620605  minutes\n"
     ]
    }
   ],
   "source": [
    "# acc, val_acc, loss, val_loss = train_net(model)\n",
    "X_train, X_valid, y_train, y_valid, X_test, Y_test = train_model()"
   ]
  },
  {
   "cell_type": "code",
   "execution_count": 26,
   "id": "986489ce",
   "metadata": {},
   "outputs": [
    {
     "name": "stdout",
     "output_type": "stream",
     "text": [
      "Gaussian accuracy:  0.49926470588235294\n",
      "time elapsed training is: 0.0058214823404947914  minutes\n",
      "SVM accuracy:  0.49926470588235294\n",
      "time elapsed training is: 1.5323435465494792  minutes\n"
     ]
    }
   ],
   "source": [
    "from sklearn import svm\n",
    "# from sklearn.model_selection import GridSearchCV\n",
    "res = []\n",
    "init = time.time()\n",
    "gnb = GaussianNB()\n",
    "gaus_pred = gnb.fit(X_train, y_train).predict(X_test) \n",
    "res.append(gaus_pred)\n",
    "end = time.time()\n",
    "print(\"time elapsed training is:\", (end - init)/60, \" minutes\")  \n",
    "\n",
    "\n",
    "\n",
    "init = time.time()\n",
    "clf = svm.SVC()\n",
    "clf.fit(X_train, y_train)\n",
    "svm_pred = clf.predict(X_test)\n",
    "res.append(svm_pred)\n",
    "end = time.time()\n",
    "print(\"time elapsed training is:\", (end - init)/60, \" minutes\")  \n",
    "\n"
   ]
  },
  {
   "cell_type": "code",
   "execution_count": 54,
   "id": "ecf5829d",
   "metadata": {},
   "outputs": [
    {
     "name": "stdout",
     "output_type": "stream",
     "text": [
      "Gaussian\n",
      "Accuracy:   49.9265  %\n",
      "Precision:  49.7992  %\n",
      "Recall:     18.2353  %\n",
      "F1:         26.6954  %\n",
      "SVM\n",
      "Accuracy:   47.5735  %\n",
      "Precision:  46.7456  %\n",
      "Recall:     34.8529  %\n",
      "F1:         39.9326  %\n"
     ]
    }
   ],
   "source": [
    "from sklearn import metrics\n",
    "\n",
    "mdls = [\"Gaussian\", \"SVM\"]\n",
    "res = [gaus_pred, svm_pred]\n",
    "for i in range(len(mdls)):\n",
    "    print(mdls[i])\n",
    "    print(f\"{'Accuracy:':<10} {metrics.accuracy_score(Y_test, res[i])*100:^10.4f}%\")\n",
    "    print(f\"{'Precision:': <10} {metrics.precision_score(Y_test, res[i])*100:^10.4f}%\")\n",
    "    print(f\"{'Recall:': <10} {metrics.recall_score(Y_test, res[i])*100:^10.4f}%\")\n",
    "    print(f\"{'F1:': <10} {metrics.f1_score(Y_test, res[i])*100:^10.4f}%\")\n",
    "\n",
    "# print(f\"Accuracy:\",metrics.accuracy_score(Y_test, gaus_pred))\n",
    "# print(f\"Precision:\",metrics.precision_score(Y_test, gaus_pred))\n",
    "# print(f\"Recall:\",metrics.recall_score(Y_test, gaus_pred))\n",
    "# print(f\"F1:\",metrics.f1_score(Y_test, gaus_pred))\n",
    "\n",
    "# print(\"SVM\")\n",
    "# print(\"Accuracy:\",metrics.accuracy_score(Y_test, svm_pred))\n",
    "# print(\"Precision:\",metrics.precision_score(Y_test, svm_pred))\n",
    "# print(\"Recall:\",metrics.recall_score(Y_test, svm_pred))\n",
    "# print(\"F1:\",metrics.f1_score(Y_test, svm_pred))"
   ]
  },
  {
   "cell_type": "code",
   "execution_count": 16,
   "id": "4636d2b2",
   "metadata": {},
   "outputs": [
    {
     "ename": "NameError",
     "evalue": "name 'val_acc' is not defined",
     "output_type": "error",
     "traceback": [
      "\u001b[0;31m---------------------------------------------------------------------------\u001b[0m",
      "\u001b[0;31mNameError\u001b[0m                                 Traceback (most recent call last)",
      "\u001b[0;32m/var/folders/45/kz7s2cd1451ftcg_f4bjlpbh0000gn/T/ipykernel_85219/3904151164.py\u001b[0m in \u001b[0;36m<module>\u001b[0;34m\u001b[0m\n\u001b[1;32m      2\u001b[0m \u001b[0mplt\u001b[0m\u001b[0;34m.\u001b[0m\u001b[0mrcParams\u001b[0m\u001b[0;34m[\u001b[0m\u001b[0;34m\"figure.figsize\"\u001b[0m\u001b[0;34m]\u001b[0m \u001b[0;34m=\u001b[0m \u001b[0;34m(\u001b[0m\u001b[0;36m10\u001b[0m\u001b[0;34m,\u001b[0m\u001b[0;36m7\u001b[0m\u001b[0;34m)\u001b[0m\u001b[0;34m\u001b[0m\u001b[0;34m\u001b[0m\u001b[0m\n\u001b[1;32m      3\u001b[0m \u001b[0mplt\u001b[0m\u001b[0;34m.\u001b[0m\u001b[0mplot\u001b[0m\u001b[0;34m(\u001b[0m\u001b[0macc\u001b[0m\u001b[0;34m)\u001b[0m\u001b[0;34m\u001b[0m\u001b[0;34m\u001b[0m\u001b[0m\n\u001b[0;32m----> 4\u001b[0;31m \u001b[0mplt\u001b[0m\u001b[0;34m.\u001b[0m\u001b[0mplot\u001b[0m\u001b[0;34m(\u001b[0m\u001b[0mval_acc\u001b[0m\u001b[0;34m)\u001b[0m\u001b[0;34m\u001b[0m\u001b[0;34m\u001b[0m\u001b[0m\n\u001b[0m\u001b[1;32m      5\u001b[0m \u001b[0mplt\u001b[0m\u001b[0;34m.\u001b[0m\u001b[0mtitle\u001b[0m\u001b[0;34m(\u001b[0m\u001b[0;34m'Model accuracy'\u001b[0m\u001b[0;34m)\u001b[0m\u001b[0;34m\u001b[0m\u001b[0;34m\u001b[0m\u001b[0m\n\u001b[1;32m      6\u001b[0m \u001b[0mplt\u001b[0m\u001b[0;34m.\u001b[0m\u001b[0mylabel\u001b[0m\u001b[0;34m(\u001b[0m\u001b[0;34m'Accuracy'\u001b[0m\u001b[0;34m)\u001b[0m\u001b[0;34m\u001b[0m\u001b[0;34m\u001b[0m\u001b[0m\n",
      "\u001b[0;31mNameError\u001b[0m: name 'val_acc' is not defined"
     ]
    },
    {
     "data": {
      "image/png": "[encoded data removed]",
      "text/plain": [
       "<Figure size 720x504 with 1 Axes>"
      ]
     },
     "metadata": {
      "needs_background": "light"
     },
     "output_type": "display_data"
    }
   ],
   "source": [
    "# Plot test accuracy values\n",
    "plt.rcParams[\"figure.figsize\"] = (10,7)\n",
    "plt.plot(acc)\n",
    "plt.plot(val_acc)\n",
    "plt.title('Model accuracy')\n",
    "plt.ylabel('Accuracy')\n",
    "plt.xlabel('Epoch')\n",
    "plt.legend(['Train', 'Valid'], loc='upper left')\n",
    "plt.show()"
   ]
  },
  {
   "cell_type": "code",
   "execution_count": null,
   "id": "a53e885f",
   "metadata": {},
   "outputs": [],
   "source": [
    "# Plot test accuracy values\n",
    "plt.plot(loss)\n",
    "plt.plot(val_loss)\n",
    "plt.title('Model loss')\n",
    "plt.ylabel('Loss')\n",
    "plt.xlabel('Epoch')\n",
    "plt.legend(['Train', 'Valid'], loc='upper left')\n",
    "plt.show()"
   ]
  },
  {
   "cell_type": "code",
   "execution_count": null,
   "id": "dc90f038",
   "metadata": {},
   "outputs": [],
   "source": [
    "X, Y, Trials, Flash = prepare_data(test_file)\n",
    "X_clean, y_clean = clean_data(X, Y, Flash)\n",
    "X_train, X_test, y_train, y_test = train_test_split(X_clean, y_clean, test_size=0.1, random_state=816)\n",
    "history = model.fit(X_train, y_train, batch_size=1, epochs=20)"
   ]
  },
  {
   "cell_type": "code",
   "execution_count": null,
   "id": "6bbf21ce",
   "metadata": {},
   "outputs": [],
   "source": [
    "# Plot test accuracy values\n",
    "plt.plot(history.history['accuracy'])\n",
    "plt.title('Model accuracy')\n",
    "plt.ylabel('Accuracy')\n",
    "plt.xlabel('Epoch')\n",
    "plt.legend(['Test'], loc='upper left')\n",
    "plt.show()"
   ]
  },
  {
   "cell_type": "code",
   "execution_count": null,
   "id": "7edfb69a",
   "metadata": {},
   "outputs": [],
   "source": []
  }
 ],
 "metadata": {
  "kernelspec": {
   "display_name": "Python 3 (ipykernel)",
   "language": "python",
   "name": "python3"
  },
  "language_info": {
   "codemirror_mode": {
    "name": "ipython",
    "version": 3
   },
   "file_extension": ".py",
   "mimetype": "text/x-python",
   "name": "python",
   "nbconvert_exporter": "python",
   "pygments_lexer": "ipython3",
   "version": "3.8.10"
  }
 },
 "nbformat": 4,
 "nbformat_minor": 5
}
