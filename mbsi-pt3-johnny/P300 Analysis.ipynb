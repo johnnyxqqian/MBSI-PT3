{
 "cells": [
  {
   "cell_type": "code",
   "execution_count": 1,
   "metadata": {},
   "outputs": [],
   "source": [
    "# NOTES\n",
    "# RUN CELLS THROUGH TO THE CELL LABELED \"DRIVER CODE\" IN ORDER"
   ]
  },
  {
   "cell_type": "code",
   "execution_count": 2,
   "metadata": {},
   "outputs": [
    {
     "name": "stdout",
     "output_type": "stream",
     "text": [
      "Channel-0.png                        Channel-6.png\r\n",
      "Channel-1.png                        Channel-7.png\r\n",
      "Channel-2.png                        P300 Analysis.ipynb\r\n",
      "Channel-3.png                        P300-12-08-2021-ResponseGraphs.ipynb\r\n",
      "Channel-4.png                        \u001b[34mmbsi-p300-dataset\u001b[m\u001b[m\r\n",
      "Channel-5.png                        p300 raw vs. butter filter.jpg\r\n"
     ]
    }
   ],
   "source": [
    "import sklearn as sk\n",
    "import pandas as pd\n",
    "import numpy as np\n",
    "import matplotlib.pyplot as plt \n",
    "import scipy.io as sio\n",
    "from mat4py import loadmat \n",
    "# from keras.utils import to_categorical\n",
    "import time\n",
    "import glob\n",
    "# import tensorflow as tf\n",
    "# from sklearn.model_selection import train_test_split\n",
    "!ls"
   ]
  },
  {
   "cell_type": "code",
   "execution_count": 3,
   "metadata": {},
   "outputs": [
    {
     "name": "stdout",
     "output_type": "stream",
     "text": [
      "['./mbsi-p300-dataset/P300S02.mat', './mbsi-p300-dataset/P300S03.mat', './mbsi-p300-dataset/P300S01.mat', './mbsi-p300-dataset/P300S05.mat', './mbsi-p300-dataset/P300S07.mat', './mbsi-p300-dataset/P300S06.mat', './mbsi-p300-dataset/P300S08.mat']\n"
     ]
    }
   ],
   "source": [
    "folder = './mbsi-p300-dataset/*.mat'\n",
    "files = glob.glob(folder)\n",
    "files.pop(3) #drop the data badly structured\n",
    "print(files)\n",
    "# test_file = files.pop(0) #last subject for testing the network"
   ]
  },
  {
   "cell_type": "code",
   "execution_count": 4,
   "metadata": {},
   "outputs": [
    {
     "name": "stdout",
     "output_type": "stream",
     "text": [
      "[ 1.         -4.48456301  8.52900508 -8.77910797  5.14764268 -1.62771478\n",
      "  0.21658286]\n"
     ]
    }
   ],
   "source": [
    "from scipy.signal import butter, lfilter, freqz\n",
    "\n",
    "def butter_lowpass(cutoff, fs, order=5):\n",
    "    nyq = 0.5 * fs\n",
    "    normal_cutoff = cutoff / nyq\n",
    "    b, a = butter(order, normal_cutoff, btype='low', analog=False)\n",
    "    return b, a\n",
    "\n",
    "def butter_lowpass_filter(data, cutoff, fs, order=5):\n",
    "    b, a = butter_lowpass(cutoff, fs, order=order)\n",
    "    y = lfilter(b, a, data)\n",
    "    return y\n",
    "\n",
    "\n",
    "# Filter requirements.\n",
    "order = 6\n",
    "fs = 24.0       # sample rate, Hz\n",
    "cutoff = 1.5  # desired cutoff frequency of the filter, Hz\n",
    "\n",
    "# Get the filter coefficients so we can check its frequency response.\n",
    "b, a = butter_lowpass(cutoff, fs, order)\n",
    "\n",
    "print(a)"
   ]
  },
  {
   "cell_type": "code",
   "execution_count": 5,
   "metadata": {},
   "outputs": [],
   "source": [
    "def data_to_array(): \n",
    "    unfiltered_data = []\n",
    "    filtered_data = []\n",
    "\n",
    "    for file in files:\n",
    "        raw_data = loadmat(file)\n",
    "        useful_data = raw_data['data'].copy()\n",
    "        print(file)\n",
    "        X = np.array(useful_data['X'])\n",
    "        X_filtered = butter_lowpass_filter(X, cutoff, fs, order)\n",
    "        Y = useful_data['y']\n",
    "        T = useful_data['trial']\n",
    "        F = useful_data['flash']\n",
    "\n",
    "        xlen = len(X)\n",
    "        for idx in F:\n",
    "            if idx[3] == 2:\n",
    "                if not len(unfiltered_data):\n",
    "                    for electrode in range(8):\n",
    "                        unfiltered_data.append(np.array(X[idx[0]-50:idx[0]+250, electrode]))\n",
    "                        filtered_data.append(np.array(X[idx[0]-50:idx[0]+250, electrode]))\n",
    "                else:\n",
    "                    for electrode in range(8):\n",
    "                        if not (idx[0]-50 < 0 or idx[0]+250 > xlen):\n",
    "                            unfiltered_data[electrode] = np.vstack((unfiltered_data[electrode], np.array(X[idx[0]-50:idx[0]+250, electrode])))\n",
    "                            filtered_data[electrode] = np.vstack((filtered_data[electrode], np.array(X[idx[0]-50:idx[0]+250, electrode])))\n",
    "    \n",
    "    unfiltered_means = [np.mean(i, axis = 0) for i in unfiltered_data]\n",
    "    filtered_means = [np.mean(i, axis = 0) for i in filtered_data]\n",
    "    return unfiltered_means, filtered_means"
   ]
  },
  {
   "cell_type": "code",
   "execution_count": 6,
   "metadata": {},
   "outputs": [],
   "source": [
    "def subplot_p300(arr1, arr2):\n",
    "    graph_axis = [i/250 for i in range(-50, 250) ]\n",
    "    rows = len(arr1)\n",
    "    cols = 2    \n",
    "    fig, axes = plt.subplots(rows, cols, figsize=(25,60))\n",
    "    \n",
    "    for i in range(rows):\n",
    "        axes[i][0].plot(graph_axis, arr1[i])\n",
    "        axes[i][0].set_title(f\"Arr1 Channel #{i}\")\n",
    "        axes[i][1].plot(graph_axis, arr1[2])\n",
    "        axes[i][1].set_title(f\"Arr2 Channel #{i}\") \n",
    "\n",
    "    \n",
    "    plt.savefig('p300 raw vs. butter filter.jpg', bbox_inches='tight',dpi=150 )\n",
    "    plt.show()    "
   ]
  },
  {
   "cell_type": "code",
   "execution_count": null,
   "metadata": {
    "scrolled": false
   },
   "outputs": [
    {
     "name": "stdout",
     "output_type": "stream",
     "text": [
      "./mbsi-p300-dataset/P300S02.mat\n",
      "./mbsi-p300-dataset/P300S03.mat\n",
      "./mbsi-p300-dataset/P300S01.mat\n",
      "./mbsi-p300-dataset/P300S05.mat\n",
      "./mbsi-p300-dataset/P300S07.mat\n",
      "./mbsi-p300-dataset/P300S06.mat\n",
      "./mbsi-p300-dataset/P300S08.mat\n"
     ]
    }
   ],
   "source": [
    "# driver code \n",
    "unfiltered, filtered =  data_to_array()\n",
    "\n",
    "subplot_p300(unfiltered, filtered)\n",
    "\n",
    "\n",
    "\n",
    "# X, Y, Trials, Flash = visualise_data()"
   ]
  },
  {
   "cell_type": "code",
   "execution_count": null,
   "metadata": {},
   "outputs": [],
   "source": [
    "# BELOW IS ARCHIVE"
   ]
  },
  {
   "cell_type": "code",
   "execution_count": 9,
   "metadata": {},
   "outputs": [],
   "source": [
    "# def visualise_p300(arr):\n",
    "    \n",
    "# #     print(means_arr[0].shape)\n",
    "#     graph_axis = [i/250 for i in range(-50, 250) ]        \n",
    "    \n",
    "#     for i in range(len(means_arr)):\n",
    "#         plt.figure(facecolor=(1, 1, 1))\n",
    "#         plt.plot(graph_axis,means_arr[i])\n",
    "#         y_lab = f'Channel: {i}'\n",
    "#         plt.title(f'Channel: {i}')\n",
    "#         plt.ylabel(y_lab)\n",
    "#         plt.xlabel(time)\n",
    "#         plt.savefig(f'Channel-{i}.png')\n",
    "#         plt.show()\n",
    "# #     return X_filtered, Y, T, F"
   ]
  },
  {
   "cell_type": "code",
   "execution_count": 8,
   "metadata": {},
   "outputs": [],
   "source": [
    "# def data_to_array(filter_flag): \n",
    "#     electrode_measurements = []\n",
    "#     #     file = files[0];\n",
    "#     for file in files:\n",
    "#         raw_data = loadmat(file)\n",
    "#         useful_data = raw_data['data'].copy()\n",
    "#         print(file)\n",
    "#         X = np.array(useful_data['X'])\n",
    "#         X = butter_lowpass_filter(X, cutoff, fs, order) if filter_flag else X\n",
    "#         Y = useful_data['y']\n",
    "#         T = useful_data['trial']\n",
    "#         F = useful_data['flash']\n",
    "\n",
    "#     #         X_filtered = butter_lowpass_filter(X, cutoff, fs, order)\n",
    "#     #         [250]\n",
    "\n",
    "#         i=0\n",
    "#         xlen = len(X)\n",
    "#         for idx in F:\n",
    "#             if idx[3] == 2:\n",
    "#                 i += 1\n",
    "#                 if not len(electrode_measurements):\n",
    "#                     for electrode in range(8):\n",
    "#                         electrode_measurements.append(np.array(X[idx[0]-50:idx[0]+250, electrode]))\n",
    "#                 else:\n",
    "#                     for electrode in range(8):\n",
    "#                         if not (idx[0]-50 < 0 or idx[0]+250 > xlen):\n",
    "#                             electrode_measurements[electrode] = np.vstack((electrode_measurements[electrode], np.array(X[idx[0]-50:idx[0]+250, electrode])))\n",
    "    \n",
    "#     means_arr = [np.mean(i, axis = 0) for i in electrode_measurements]\n",
    "#     return means_arr"
   ]
  },
  {
   "cell_type": "code",
   "execution_count": 7,
   "metadata": {},
   "outputs": [],
   "source": [
    "# def visualise_data():\n",
    "#     electrode_measurements = []\n",
    "#     #     file = files[0];\n",
    "#     for file in files:\n",
    "#         raw_data = loadmat(file)\n",
    "#         useful_data = raw_data['data'].copy()\n",
    "#         print(file)\n",
    "#         X = np.array(useful_data['X'])\n",
    "#         X_filtered = butter_lowpass_filter(X, cutoff, fs, order)\n",
    "#         Y = useful_data['y']\n",
    "\n",
    "#         T = useful_data['trial']\n",
    "#         F = useful_data['flash']\n",
    "\n",
    "#     #         X_filtered = butter_lowpass_filter(X, cutoff, fs, order)\n",
    "#     #         [250]\n",
    "\n",
    "#         i=0\n",
    "#         xlen = len(X)\n",
    "#         for idx in F:\n",
    "#             if idx[3] == 2:\n",
    "#                 i += 1\n",
    "#                 if not len(electrode_measurements):\n",
    "#                     for electrode in range(8):\n",
    "#                         electrode_measurements.append(np.array(X[idx[0]-50:idx[0]+250, electrode]))\n",
    "#                 else:\n",
    "#                     for electrode in range(8):\n",
    "#                         if not (idx[0]-50 < 0 or idx[0]+250 > xlen):\n",
    "#                             electrode_measurements[electrode] = np.vstack((electrode_measurements[electrode], np.array(X[idx[0]-50:idx[0]+250, electrode])))\n",
    "    \n",
    "#     means_arr = [np.mean(i, axis = 0) for i in electrode_measurements]\n",
    "#     print(means_arr[0].shape)\n",
    "    \n",
    "# #     means_arr = np.array(means_arr)\n",
    "# #     n = means_arr.T\n",
    "#     graph_axis = [i/250 for i in range(-50, 250) ]\n",
    "    \n",
    "# #     figure, axis = plt.subplots(2, 4)\n",
    "# #     for i in range(4):\n",
    "# #         axis[0,i].plot(graph_axis,n[i])\n",
    "# #         y_lab = f'Channel: {i}'\n",
    "# #         axis[0,i].ylabel(y_lab)\n",
    "# #         axis[0,i].xlabel(time)\n",
    "# #         axis[0,i].set_title(f\"Channel: {i}\")\n",
    "    \n",
    "# #     for i in range(4, n.shape[0]):\n",
    "# #         axis[0,i].plot(graph_axis,n[i])\n",
    "# #         y_lab = f'Channel: {i}'\n",
    "# #         axis[0,i].ylabel(y_lab)\n",
    "# #         axis[0,i].xlabel(time)\n",
    "# #         axis[0,i].set_title(f\"Channel: {i}\")\n",
    "        \n",
    "    \n",
    "#     for i in range(len(means_arr)):\n",
    "#         plt.figure(facecolor=(1, 1, 1))\n",
    "#         plt.plot(graph_axis,means_arr[i])\n",
    "#         y_lab = f'Channel: {i}'\n",
    "#         plt.title(f'Channel: {i}')\n",
    "#         plt.ylabel(y_lab)\n",
    "#         plt.xlabel(time)\n",
    "#         plt.savefig(f'Channel-{i}.png')\n",
    "#         plt.show()\n",
    "    \n",
    "#     print(\"haha\")\n",
    "#     return X_filtered, Y, T, F"
   ]
  }
 ],
 "metadata": {
  "kernelspec": {
   "display_name": "Python 3",
   "language": "python",
   "name": "python3"
  },
  "language_info": {
   "codemirror_mode": {
    "name": "ipython",
    "version": 3
   },
   "file_extension": ".py",
   "mimetype": "text/x-python",
   "name": "python",
   "nbconvert_exporter": "python",
   "pygments_lexer": "ipython3",
   "version": "3.8.5"
  }
 },
 "nbformat": 4,
 "nbformat_minor": 4
}
